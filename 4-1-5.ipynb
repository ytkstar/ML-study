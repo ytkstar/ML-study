{
 "cells": [
  {
   "cell_type": "code",
   "execution_count": 29,
   "id": "7ca56cf4",
   "metadata": {},
   "outputs": [],
   "source": [
    "import numpy as np\n",
    "\n",
    "def create_matrix(x):\n",
    "        '''\n",
    "        データx1,x2に、バイアスを加えたx0(=1)を加えた行列を作成\n",
    "        \n",
    "        params:\n",
    "            x(ndarray): x1, x2を格納した2階テンソル\n",
    "        \n",
    "        '''\n",
    "        x0 = np.ones([\n",
    "            x.shape[0], 1\n",
    "        ]) #バイアスに対応するx0を生成\n",
    "\n",
    "        return np.hstack([\n",
    "            x0, x\n",
    "        ])\n",
    "\n",
    "def sigmoid(X, parameter):\n",
    "        '''\n",
    "        シグモイド関数\n",
    "        ---\n",
    "        \n",
    "        Parameters:\n",
    "        X(ndarray): x0, x1, x2を格納した2階テンソル\n",
    "        parameter(ndarray): バイアス、w1, w2を格納した1階テンソル\n",
    "        テンソル=配列\n",
    "        \n",
    "        Returns:\n",
    "            シグモイド関数適用後のx        \n",
    "        '''\n",
    "        return 1/ (1 + np.exp(-np.dot(X, parameter))) #dotで積をとる\n",
    "\n",
    "def logistic_regression(X, t):\n",
    "        '''\n",
    "        2値分類を行う単純パーセプトロン\n",
    "        ---\n",
    "        Parameters:\n",
    "            X(ndarray): x0, x1, x2が格納された2階テンソル(2次元配列）\n",
    "            t(ndarray): 正解ラベルが格納された1階テンソル\n",
    "            '''\n",
    "        LNR = 1e-1 #学習率を0.1に設定\n",
    "        loop = 50 #学習回数\n",
    "        count = 1 #学習回数をカウントする変数\n",
    "        parameter = np.random.rand(3) #バイアス, w1, w2を0-1の一様乱数で初期化\n",
    "        \n",
    "        for i in range(loop):\n",
    "                #バイアス, w1, w2を勾配降下法で更新\n",
    "                parameter = parameter - LNR*np.dot(sigmoid(X, parameter) - t, X)\n",
    "                #最初の1回と以降10回ごとにパラメータの値を出力\n",
    "                if (count == 1 or count % 10 == 0):\n",
    "                        print(f'{count}回')\n",
    "                count += 1\n",
    "        \n",
    "        return parameter #学習後の[バイアス、w1, w2]を返す"
   ]
  },
  {
   "cell_type": "code",
   "execution_count": 30,
   "id": "70c9644c",
   "metadata": {},
   "outputs": [
    {
     "name": "stdout",
     "output_type": "stream",
     "text": [
      "1回\n",
      "10回\n",
      "20回\n",
      "30回\n",
      "40回\n",
      "50回\n"
     ]
    }
   ],
   "source": [
    "#ANDゲート\n",
    "\n",
    "#x1, x2の組み合わせ4セットをそれぞれ行列x(ndarray)に代入\n",
    "x = np.array([[0, 0], [0, 1], [1, 0], [1, 1]])\n",
    "\n",
    "#正解ラベルをtに代入\n",
    "t = np.array([0, 0, 0, 1])\n",
    "\n",
    "#xにバイアス対応の1の項を追加した2階テンソルを作成\n",
    "X = create_matrix(x)\n",
    "\n",
    "#バイアス、重みの値を学習する\n",
    "parameter = logistic_regression(X, t)"
   ]
  },
  {
   "cell_type": "code",
   "execution_count": 32,
   "id": "832bd02b",
   "metadata": {},
   "outputs": [
    {
     "data": {
      "text/plain": [
       "array([0, 0, 0, 1])"
      ]
     },
     "execution_count": 32,
     "metadata": {},
     "output_type": "execute_result"
    }
   ],
   "source": [
    "#sigmoid()の戻り値が0.5以上であれば1、そうでなければ0を返す\n",
    "(sigmoid(\n",
    "    create_matrix(\n",
    "                                np.array([\n",
    "                                                [0, 0], [0, 1], [1, 0], [1, 1]\n",
    "                                                ]\n",
    "                                                )), parameter\n",
    "    )\n",
    " >= 0.5 ).astype(np.int64)"
   ]
  },
  {
   "cell_type": "code",
   "execution_count": null,
   "id": "b8e4415b",
   "metadata": {},
   "outputs": [],
   "source": []
  }
 ],
 "metadata": {
  "kernelspec": {
   "display_name": "Python 3 (ipykernel)",
   "language": "python",
   "name": "python3"
  },
  "language_info": {
   "codemirror_mode": {
    "name": "ipython",
    "version": 3
   },
   "file_extension": ".py",
   "mimetype": "text/x-python",
   "name": "python",
   "nbconvert_exporter": "python",
   "pygments_lexer": "ipython3",
   "version": "3.7.13"
  }
 },
 "nbformat": 4,
 "nbformat_minor": 5
}
