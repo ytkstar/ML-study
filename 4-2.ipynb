{
 "cells": [
  {
   "cell_type": "code",
   "execution_count": null,
   "id": "ffa2eef8",
   "metadata": {},
   "outputs": [],
   "source": [
    "import numpy as np\n",
    "'''\n",
    "訓練データと正解ラベル\n",
    "'''\n",
    "train = np.array([[0, 0],\n",
    "                  [0, 1],\n",
    "                  [1, 0],\n",
    "                  [1, 1],])\n",
    "label = np.array([[0],\n",
    "                  [1],\n",
    "                  [1],\n",
    "                  [0],])\n",
    "\n",
    "'''\n",
    "モデルの定義\n",
    "'''\n",
    "import tensorflow as tf\n",
    "\n",
    "class MLP(tf.keras.Model):\n",
    "    '''\n",
    "    多層パーセプトロン\n",
    "    Attributes:\n",
    "        l1(Dense): 隠れ層\n",
    "        l2(Dense): 出力層\n",
    "    '''\n",
    "    \n",
    "    def __init__(self, input_dim, hidden_dim, output_dim):\n",
    "        '''\n",
    "        モデルの初期化を行う\n",
    "        Parameters:\n",
    "            input_dim(int): 出力する1データあたりの値の形状\n",
    "            hidden_dim(int): 隠れ層のニューロン数\n",
    "            outpu_dim(int): 出力層のニューロン数\n",
    "        '''\n",
    "        super(MLP, self).__init__() #スーパークラスの__init__()を実行\n",
    "        \n",
    "        #隠れ層\n",
    "        self.l1 = tf.keras.layers.Dense(\n",
    "            units = hidden_dim, #ニューロンのサイズ(数)\n",
    "            input_dim = input_dim, #入力データの形状\n",
    "            activation = 'sigmoid') #活性化関数=sigmoid\n",
    "        \n",
    "        #出力層\n",
    "        self.l2 = tf.keras.layers.Dense(\n",
    "            units = output_dim,\n",
    "            activation = 'sigmoid')\n",
    "    \n",
    "    @tf.function\n",
    "    "
   ]
  }
 ],
 "metadata": {
  "kernelspec": {
   "display_name": "Python 3 (ipykernel)",
   "language": "python",
   "name": "python3"
  },
  "language_info": {
   "codemirror_mode": {
    "name": "ipython",
    "version": 3
   },
   "file_extension": ".py",
   "mimetype": "text/x-python",
   "name": "python",
   "nbconvert_exporter": "python",
   "pygments_lexer": "ipython3",
   "version": "3.7.13"
  }
 },
 "nbformat": 4,
 "nbformat_minor": 5
}
